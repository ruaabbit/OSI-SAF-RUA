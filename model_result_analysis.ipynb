{
 "cells": [
  {
   "cell_type": "markdown",
   "metadata": {},
   "source": [
    "## 数据准备"
   ]
  },
  {
   "cell_type": "code",
   "execution_count": 6,
   "metadata": {
    "tags": []
   },
   "outputs": [],
   "source": [
    "import os\n",
    "import numpy as np\n",
    "import matplotlib.pyplot as plt\n",
    "from matplotlib.colors import ListedColormap, LinearSegmentedColormap\n",
    "from matplotlib.ticker import FuncFormatter\n",
    "from skimage import measure"
   ]
  },
  {
   "cell_type": "code",
   "execution_count": 7,
   "metadata": {
    "tags": []
   },
   "outputs": [],
   "source": [
    "# change the corresponding paths to your local paths\n",
    "land_mask = np.load(\"data/land_mask.npy\")\n",
    "targets = np.load(\"test_results/targets.npy\")\n",
    "times = np.load(\"test_results/times.npy\")\n",
    "sic_pred_ConvLSTM = np.load(\"test_results/sic_pred_ConvLSTM.npy\")\n",
    "sic_pred_PredRNN = np.load(\"test_results/sic_pred_PredRNN.npy\")\n",
    "sic_pred_SICFN = np.load(\"test_results/sic_pred_SICFN.npy\")"
   ]
  },
  {
   "cell_type": "code",
   "execution_count": 8,
   "metadata": {},
   "outputs": [],
   "source": [
    "pred_length = times.shape[0] // 2\n",
    "pred_times = times[pred_length:]\n",
    "\n",
    "pred_start_time = pred_times[0]\n",
    "pred_end_time = pred_times[-1]"
   ]
  },
  {
   "cell_type": "code",
   "execution_count": null,
   "metadata": {},
   "outputs": [],
   "source": [
    "pred_times"
   ]
  },
  {
   "cell_type": "code",
   "execution_count": 6,
   "metadata": {
    "tags": []
   },
   "outputs": [],
   "source": [
    "sic_pred_ConvLSTM = sic_pred_ConvLSTM[0, :, 0, :]\n",
    "sic_pred_PredRNN = sic_pred_PredRNN[0, :, 0, :]\n",
    "sic_pred_SICFN = sic_pred_SICFN[0, :, 0, :]"
   ]
  },
  {
   "cell_type": "code",
   "execution_count": null,
   "metadata": {
    "tags": []
   },
   "outputs": [],
   "source": [
    "sic_pred_ConvLSTM.shape, sic_pred_PredRNN.shape, sic_pred_SICFN.shape, targets.shape, land_mask.shape, times.shape"
   ]
  },
  {
   "cell_type": "markdown",
   "metadata": {},
   "source": [
    "## 绘制结果的函数"
   ]
  },
  {
   "cell_type": "code",
   "execution_count": 6,
   "metadata": {},
   "outputs": [],
   "source": [
    "# Function to format tick labels as percentages\n",
    "def percentage(x, pos):\n",
    "    return f\"{x:.0%}\""
   ]
  },
  {
   "cell_type": "code",
   "execution_count": 7,
   "metadata": {
    "tags": []
   },
   "outputs": [],
   "source": [
    "# Function to plot sea ice concentration\n",
    "def plot_sic(sic, cmap, save_path):\n",
    "    os.makedirs(save_path, exist_ok=True)\n",
    "    # 绘制海冰浓度图\n",
    "    for i, time in enumerate(pred_times):\n",
    "        fig, ax = plt.subplots()\n",
    "        img = ax.imshow(sic[i], cmap=cmap, vmin=0, vmax=1)\n",
    "\n",
    "        # 绘制陆地\n",
    "        land_color = \"#d2b48c\"  # 陆地的颜色\n",
    "        land = np.ma.masked_where(land_mask == False, land_mask)  # 创建陆地的掩模\n",
    "        ax.imshow(land, cmap=ListedColormap([land_color]))\n",
    "\n",
    "        # 关闭坐标轴和标签\n",
    "        ax.set_title(\"\")  # 禁用标题\n",
    "        ax.set_xlabel(\"\")  # 禁用 x 轴标签\n",
    "        ax.set_ylabel(\"\")  # 禁用 y 轴标签\n",
    "        ax.set_xticks([])  # 禁用 x 轴刻度\n",
    "        ax.set_yticks([])  # 禁用 y 轴刻度\n",
    "\n",
    "        # 显示colorbar\n",
    "        cbar = plt.colorbar(img)\n",
    "        cbar.ax.yaxis.set_major_formatter(FuncFormatter(percentage))\n",
    "\n",
    "        plt.savefig(f\"{save_path}/{time}.png\", bbox_inches=\"tight\")\n",
    "\n",
    "        plt.close()"
   ]
  },
  {
   "cell_type": "code",
   "execution_count": 8,
   "metadata": {},
   "outputs": [],
   "source": [
    "# Function to plot sea ice concentration difference\n",
    "def plot_diff(sic, cmap, save_path):\n",
    "    os.makedirs(save_path, exist_ok=True)\n",
    "\n",
    "    # 绘制海冰浓度图\n",
    "    for i, time in enumerate(pred_times):\n",
    "        fig, ax = plt.subplots()\n",
    "        img = ax.imshow(sic[i], cmap=cmap, vmin=-1, vmax=1)\n",
    "\n",
    "        # 绘制陆地\n",
    "        land_color = \"#d2b48c\"  # 陆地的颜色\n",
    "        land = np.ma.masked_where(land_mask == False, land_mask)  # 创建陆地的掩模\n",
    "        ax.imshow(land, cmap=ListedColormap([land_color]))\n",
    "\n",
    "        # 关闭坐标轴和标签\n",
    "        ax.set_title(\"\")  # 禁用标题\n",
    "        ax.set_xlabel(\"\")  # 禁用 x 轴标签\n",
    "        ax.set_ylabel(\"\")  # 禁用 y 轴标签\n",
    "        ax.set_xticks([])  # 禁用 x 轴刻度\n",
    "        ax.set_yticks([])  # 禁用 y 轴刻度\n",
    "\n",
    "        # 显示colorbar\n",
    "        cbar = plt.colorbar(img)\n",
    "        cbar.ax.yaxis.set_major_formatter(FuncFormatter(percentage))\n",
    "\n",
    "        plt.savefig(f\"{save_path}/{time}.png\", bbox_inches=\"tight\")\n",
    "\n",
    "        plt.close()"
   ]
  },
  {
   "cell_type": "code",
   "execution_count": 9,
   "metadata": {},
   "outputs": [],
   "source": [
    "# 绘制SIE的函数\n",
    "def plot_SIE(\n",
    "    sic_pred_SICFN,\n",
    "    sic_pred_PredRNN,\n",
    "    sic_pred_ConvLSTM,\n",
    "    targets,\n",
    "    save_path,\n",
    "):\n",
    "    os.makedirs(save_path, exist_ok=True)\n",
    "\n",
    "    # 绘制海冰SIE图\n",
    "    for i, time in enumerate(pred_times):\n",
    "\n",
    "        # 找到浓度大于0.15的部分\n",
    "        thresholded_image_SICFN = sic_pred_SICFN[i] > 0.15\n",
    "        thresholded_image_PredRNN = sic_pred_PredRNN[i] > 0.15\n",
    "        thresholded_image_ConvLSTM = sic_pred_ConvLSTM[i] > 0.15\n",
    "        thresholded_image_targets = targets[i] > 0.15\n",
    "\n",
    "        # 计算边缘线\n",
    "        contours_SICFN = measure.find_contours(thresholded_image_SICFN, 0.5)\n",
    "        contours_PredRNN = measure.find_contours(thresholded_image_PredRNN, 0.5)\n",
    "        contours_ConvLSTM = measure.find_contours(thresholded_image_ConvLSTM, 0.5)\n",
    "        contours_targets = measure.find_contours(thresholded_image_targets, 0.5)\n",
    "\n",
    "        # 创建新图\n",
    "        fig, ax = plt.subplots()\n",
    "\n",
    "        for contour in contours_SICFN:\n",
    "            ax.plot(\n",
    "                contour[:, 1], contour[:, 0], linewidth=0.7, color=\"#0080FF\"\n",
    "            )  # 指定线条颜色为红色\n",
    "\n",
    "        for contour in contours_PredRNN:\n",
    "            ax.plot(\n",
    "                contour[:, 1], contour[:, 0], linewidth=0.7, color=\"#FF0000\"\n",
    "            )  # 指定线条颜色为绿色\n",
    "\n",
    "        for contour in contours_ConvLSTM:\n",
    "            ax.plot(\n",
    "                contour[:, 1], contour[:, 0], linewidth=0.7, color=\"#00A000\"\n",
    "            )  # 指定线条颜色为蓝色\n",
    "\n",
    "        for contour in contours_targets:\n",
    "            ax.plot(\n",
    "                contour[:, 1], contour[:, 0], linewidth=0.7, color=\"#000000\"\n",
    "            )  # 指定线条颜色为黑色\n",
    "\n",
    "        # 绘制陆地\n",
    "        land_color = \"#d2b48c\"  # 陆地的颜色\n",
    "        land = np.ma.masked_where(land_mask == False, land_mask)  # 创建陆地的掩模\n",
    "        ax.imshow(land, cmap=ListedColormap([land_color]))\n",
    "\n",
    "        # 关闭坐标轴和标签\n",
    "        ax.set_title(\"\")  # 禁用标题\n",
    "        ax.set_xlabel(\"\")  # 禁用 x 轴标签\n",
    "        ax.set_ylabel(\"\")  # 禁用 y 轴标签\n",
    "        ax.set_xticks([])  # 禁用 x 轴刻度\n",
    "        ax.set_yticks([])  # 禁用 y 轴刻度\n",
    "\n",
    "        plt.savefig(f\"{save_path}/{time}.png\", bbox_inches=\"tight\")\n",
    "\n",
    "        plt.close()"
   ]
  },
  {
   "cell_type": "markdown",
   "metadata": {},
   "source": [
    "## 绘制SIC"
   ]
  },
  {
   "cell_type": "code",
   "execution_count": null,
   "metadata": {},
   "outputs": [],
   "source": [
    "# 创建渐变色的colormap\n",
    "colors = [(0, \"#04629a\"), (1, \"white\")]  # 定义颜色映射\n",
    "cmap_ice_conc = LinearSegmentedColormap.from_list(\"cmap_ice_conc\", colors)"
   ]
  },
  {
   "cell_type": "code",
   "execution_count": null,
   "metadata": {},
   "outputs": [],
   "source": [
    "save_path = f\"analysis_result/prediction/ConvLSTM/{pred_start_time}-{pred_end_time}\"\n",
    "plot_sic(sic_pred_ConvLSTM, cmap_ice_conc, save_path)"
   ]
  },
  {
   "cell_type": "code",
   "execution_count": null,
   "metadata": {},
   "outputs": [],
   "source": [
    "save_path = f\"analysis_result/prediction/PredRNN/{pred_start_time}-{pred_end_time}\"\n",
    "plot_sic(sic_pred_PredRNN, cmap_ice_conc, save_path)"
   ]
  },
  {
   "cell_type": "code",
   "execution_count": null,
   "metadata": {},
   "outputs": [],
   "source": [
    "save_path = f\"analysis_result/prediction/SICFN/{pred_start_time}-{pred_end_time}\"\n",
    "plot_sic(sic_pred_SICFN, cmap_ice_conc, save_path)"
   ]
  },
  {
   "cell_type": "code",
   "execution_count": null,
   "metadata": {
    "tags": []
   },
   "outputs": [],
   "source": [
    "save_path = f\"analysis_result/ground_truth/{pred_start_time}-{pred_end_time}\"\n",
    "plot_sic(targets, cmap_ice_conc, save_path)"
   ]
  },
  {
   "cell_type": "markdown",
   "metadata": {},
   "source": [
    "## 绘制SIC Difference"
   ]
  },
  {
   "cell_type": "code",
   "execution_count": null,
   "metadata": {},
   "outputs": [],
   "source": [
    "# 创建自定义colormap\n",
    "colors = [\n",
    "    (0, \"blue\"),\n",
    "    (0.5, \"white\"),\n",
    "    (1, \"red\"),\n",
    "]  # 透明色用 (1, 1, 1, 0) 表示\n",
    "cmap_diff = LinearSegmentedColormap.from_list(\"cmap_diff\", colors)"
   ]
  },
  {
   "cell_type": "code",
   "execution_count": null,
   "metadata": {},
   "outputs": [],
   "source": [
    "diff_ConvLSTM = sic_pred_ConvLSTM - targets\n",
    "save_path = f\"analysis_result/difference/ConvLSTM/{pred_start_time}-{pred_end_time}\"\n",
    "plot_diff(diff_ConvLSTM, cmap_diff, save_path)"
   ]
  },
  {
   "cell_type": "code",
   "execution_count": null,
   "metadata": {},
   "outputs": [],
   "source": [
    "diff_PredRNN = sic_pred_PredRNN - targets\n",
    "save_path = f\"analysis_result/difference/PredRNN/{pred_start_time}-{pred_end_time}\"\n",
    "plot_diff(diff_PredRNN, cmap_diff, save_path)"
   ]
  },
  {
   "cell_type": "code",
   "execution_count": null,
   "metadata": {},
   "outputs": [],
   "source": [
    "diff_SICFN = sic_pred_SICFN - targets\n",
    "save_path = f\"analysis_result/difference/SICFN/{pred_start_time}-{pred_end_time}\"\n",
    "plot_diff(diff_SICFN, cmap_diff, save_path)"
   ]
  },
  {
   "cell_type": "code",
   "execution_count": null,
   "metadata": {},
   "outputs": [],
   "source": [
    "diff_ConvLSTM_SICFN = np.abs(diff_ConvLSTM) - np.abs(diff_SICFN)\n",
    "save_path = f\"analysis_result/difference/sic_pred_ConvLSTM - sic_pred_SICFN/{pred_start_time}-{pred_end_time}\"\n",
    "plot_diff(diff_ConvLSTM_SICFN, cmap_diff, save_path)"
   ]
  },
  {
   "cell_type": "code",
   "execution_count": null,
   "metadata": {},
   "outputs": [],
   "source": [
    "diff_PredRNN_SICFN = np.abs(diff_PredRNN) - np.abs(diff_SICFN)\n",
    "save_path = f\"analysis_result/difference/sic_pred_PredRNN - sic_pred_SICFN/{pred_start_time}-{pred_end_time}\"\n",
    "plot_diff(diff_PredRNN_SICFN, cmap_diff, save_path)"
   ]
  },
  {
   "cell_type": "markdown",
   "metadata": {},
   "source": [
    "## 绘制SIE"
   ]
  },
  {
   "cell_type": "code",
   "execution_count": 10,
   "metadata": {},
   "outputs": [],
   "source": [
    "save_path = f\"analysis_result/SIE/{pred_start_time}-{pred_end_time}\"\n",
    "plot_SIE(sic_pred_SICFN, sic_pred_PredRNN, sic_pred_ConvLSTM, targets, save_path)"
   ]
  }
 ],
 "metadata": {
  "kernelspec": {
   "display_name": "Python 3 (ipykernel)",
   "language": "python",
   "name": "python3"
  },
  "language_info": {
   "codemirror_mode": {
    "name": "ipython",
    "version": 3
   },
   "file_extension": ".py",
   "mimetype": "text/x-python",
   "name": "python",
   "nbconvert_exporter": "python",
   "pygments_lexer": "ipython3",
   "version": "3.12.4"
  }
 },
 "nbformat": 4,
 "nbformat_minor": 4
}
